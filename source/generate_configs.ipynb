{
 "cells": [
  {
   "cell_type": "markdown",
   "metadata": {},
   "source": [
    "# Generate configs for evaluation.py"
   ]
  },
  {
   "cell_type": "code",
   "execution_count": 15,
   "metadata": {},
   "outputs": [],
   "source": [
    "import os, yaml, itertools, hashlib"
   ]
  },
  {
   "cell_type": "code",
   "execution_count": 18,
   "metadata": {},
   "outputs": [],
   "source": [
    "def md5(txt):\n",
    "    return hashlib.md5(txt).hexdigest()\n",
    "\n",
    "def make_configs(out_dir, **params):\n",
    "    param_names = params.keys()\n",
    "    result = []\n",
    "    for values in itertools.product(*params.values()):\n",
    "        conf = dict(itertools.izip(param_names, values))\n",
    "        fname = md5('_'.join('%s-%s' % (k, str(v)) for k, v in conf.viewitems()))\n",
    "\n",
    "        if 'ctor' in conf:\n",
    "            ctor = conf['ctor']\n",
    "            del conf['ctor']\n",
    "            conf = dict(ctor = ctor, kwargs = conf)\n",
    "\n",
    "        with open(os.path.join(out_dir, fname + '.yaml'), 'w') as f:\n",
    "            yaml.dump(conf, f)\n",
    "        result.append(fname)"
   ]
  },
  {
   "cell_type": "markdown",
   "metadata": {},
   "source": [
    "## Name refresher"
   ]
  },
  {
   "cell_type": "code",
   "execution_count": 3,
   "metadata": {},
   "outputs": [
    {
     "name": "stderr",
     "output_type": "stream",
     "text": [
      "Using Theano backend.\n",
      "Using gpu device 0: GeForce GTX 560 Ti (CNMeM is disabled, cuDNN not available)\n"
     ]
    }
   ],
   "source": [
    "import dlpf"
   ]
  },
  {
   "cell_type": "code",
   "execution_count": 4,
   "metadata": {},
   "outputs": [
    {
     "data": {
      "text/plain": [
       "(['go_straight', 'random_start_and_finish_straight', 'follow_gold'],\n",
       " 'follow_gold')"
      ]
     },
     "execution_count": 4,
     "output_type": "execute_result",
     "metadata": {}
    }
   ],
   "source": [
    "dlpf.gym_environ.get_available_path_policies(), dlpf.gym_environ.DEFAULT_PATH_POLICY"
   ]
  },
  {
   "cell_type": "code",
   "execution_count": 5,
   "metadata": {},
   "outputs": [
    {
     "data": {
      "text/plain": [
       "(['random', 'sequential'], 'random')"
      ]
     },
     "execution_count": 5,
     "output_type": "execute_result",
     "metadata": {}
    }
   ],
   "source": [
    "dlpf.gym_environ.get_available_task_policies(), dlpf.gym_environ.DEFAULT_TASK_POLICY"
   ]
  },
  {
   "cell_type": "code",
   "execution_count": 6,
   "metadata": {},
   "outputs": [
    {
     "data": {
      "text/plain": [
       "(['annealed_epsilon_greedy', 'epsilon_greedy'], 'epsilon_greedy')"
      ]
     },
     "execution_count": 6,
     "output_type": "execute_result",
     "metadata": {}
    }
   ],
   "source": [
    "dlpf.agents.policies.get_available_action_policies(), dlpf.agents.policies.DEFAULT_ACTION_POLICY"
   ]
  },
  {
   "cell_type": "code",
   "execution_count": 7,
   "metadata": {},
   "outputs": [
    {
     "data": {
      "text/plain": [
       "['rmsprop', 'adagrad', 'nadam', 'adadelta']"
      ]
     },
     "execution_count": 7,
     "output_type": "execute_result",
     "metadata": {}
    }
   ],
   "source": [
    "dlpf.keras_utils.get_available_optimizers()"
   ]
  },
  {
   "cell_type": "markdown",
   "metadata": {},
   "source": [
    "## Environment"
   ]
  },
  {
   "cell_type": "code",
   "execution_count": 8,
   "metadata": {},
   "outputs": [],
   "source": [
    "VISION_RANGE = 10"
   ]
  },
  {
   "cell_type": "code",
   "execution_count": 13,
   "metadata": {},
   "outputs": [],
   "source": [
    "make_configs('configs/env/',\n",
    "             ctor = ['PathFindingByPixelWithDistanceMapEnv-v1'],\n",
    "             maps_dir = ['data/current/imported/maps'],\n",
    "             map_shape = [(501, 501)],\n",
    "             path_policy = ['go_straight'],\n",
    "             task_policy = ['sequential'],\n",
    "             obstacle_punishment = [dlpf.gym_environ.DEFAULT_OBSTACLE_PUNISHMENT],\n",
    "             local_goal_reward = [dlpf.gym_environ.DEFAULT_GOAL_REWARD],\n",
    "             done_reward = [dlpf.gym_environ.DEFAULT_DONE_REWARD],\n",
    "             stop_game_after_invalid_action = [False],\n",
    "             vision_range = [10],\n",
    "             target_on_border_reward = [5])"
   ]
  },
  {
   "cell_type": "markdown",
   "metadata": {},
   "source": [
    "## Agent"
   ]
  },
  {
   "cell_type": "code",
   "execution_count": 14,
   "metadata": {},
   "outputs": [],
   "source": [
    "make_configs('configs/agent/',\n",
    "             ctor = ['dlpf.agents.our_dqn.OneLayerAgent'],\n",
    "             action_policy = [dict(ctor = 'epsilon_greedy')],\n",
    "             max_memory_size = [250],\n",
    "             loss = ['mean_squared_error'],\n",
    "             optimizer = ['rmsprop'],\n",
    "             epoch_number = [100],\n",
    "             passes_over_train_data = [2],\n",
    "             validation_part = [0.1],\n",
    "             batch_size = [32])"
   ]
  },
  {
   "cell_type": "code",
   "execution_count": 21,
   "metadata": {},
   "outputs": [],
   "source": [
    "make_configs('configs/agent/two_layer',\n",
    "             ctor = ['dlpf.agents.our_dqn.TwoLayerAgent'],\n",
    "             action_policy = [dict(ctor = 'epsilon_greedy', eps = 0.05),\n",
    "                              dict(ctor = 'epsilon_greedy', eps = 0.1),\n",
    "                              dict(ctor = 'annealed_epsilon_greedy', eps = 0.05, decrease_coef = 0.99),\n",
    "                              dict(ctor = 'annealed_epsilon_greedy', eps = 0.3, decrease_coef = 0.99),\n",
    "                              dict(ctor = 'annealed_epsilon_greedy', eps = 0.6, decrease_coef = 0.99)],\n",
    "             max_memory_size = [250],\n",
    "             loss = ['mean_squared_error'],\n",
    "             optimizer = [dict(ctor = 'rmsprop', lr = 0.01),\n",
    "                          dict(ctor = 'rmsprop', lr = 0.1),\n",
    "                          dict(ctor = 'adam', lr = 0.01),\n",
    "                          dict(ctor = 'adam', lr = 0.1)],\n",
    "             epoch_number = [20],\n",
    "             passes_over_train_data = [10],\n",
    "             validation_part = [0.1],\n",
    "             batch_size = [64],\n",
    "             hidden_size = [8, 16, 32, 64, 128],\n",
    "             hidden_activation = ['relu', 'tanh'])"
   ]
  },
  {
   "cell_type": "markdown",
   "metadata": {},
   "source": [
    "## Apply_agent kwargs"
   ]
  },
  {
   "cell_type": "code",
   "execution_count": 15,
   "metadata": {},
   "outputs": [],
   "source": [
    "make_configs('configs/apply/',\n",
    "             episodes_number = [3000],\n",
    "             max_steps = [100],\n",
    "             train_each_episodes = [10])"
   ]
  },
  {
   "cell_type": "code",
   "execution_count": null,
   "metadata": {},
   "outputs": [],
   "source": [
    ""
   ]
  }
 ],
 "metadata": {
  "kernelspec": {
   "display_name": "Python 2",
   "language": "python",
   "name": "python2"
  },
  "language_info": {
   "codemirror_mode": {
    "name": "ipython",
    "version": 2.0
   },
   "file_extension": ".py",
   "mimetype": "text/x-python",
   "name": "python",
   "nbconvert_exporter": "python",
   "pygments_lexer": "ipython2",
   "version": "2.7.6"
  }
 },
 "nbformat": 4,
 "nbformat_minor": 1
}